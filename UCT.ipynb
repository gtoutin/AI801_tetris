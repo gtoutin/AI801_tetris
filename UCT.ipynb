{
 "cells": [
  {
   "cell_type": "code",
   "execution_count": 1,
   "id": "34507e85-fd94-4116-b659-c5be65ad097c",
   "metadata": {},
   "outputs": [],
   "source": [
    "# get board state\n",
    "# get next piece info\n",
    "# generate all possible states for the rotations of the piece\n",
    "# score each state\n",
    "# return what the best state is"
   ]
  },
  {
   "cell_type": "code",
   "execution_count": 2,
   "id": "bb31fd63-be25-4a00-8b63-82a05bea3005",
   "metadata": {},
   "outputs": [
    {
     "ename": "IndentationError",
     "evalue": "expected an indented block after 'try' statement on line 8 (3693762231.py, line 9)",
     "output_type": "error",
     "traceback": [
      "\u001b[0;36m  Cell \u001b[0;32mIn[2], line 9\u001b[0;36m\u001b[0m\n\u001b[0;31m    if direction == \"up\":\u001b[0m\n\u001b[0m    ^\u001b[0m\n\u001b[0;31mIndentationError\u001b[0m\u001b[0;31m:\u001b[0m expected an indented block after 'try' statement on line 8\n"
     ]
    }
   ],
   "source": [
    "class UCTTetrisSolver:\n",
    "    def __init__(self, board):\n",
    "        self.board = board\n",
    "\n",
    "    def get_adjacent_block(self, location, direction):\n",
    "        '''Given a location (i,j tuple) and a direction (up, down, left, right),\n",
    "        check the block in that direction and \n",
    "        return 1 if that block is occupied or out of bounds and return 0 if that block is free.\n",
    "        Assumes that an occupied block on the board has a value of 1.'''\n",
    "        i = location[0]\n",
    "        j = location[1]\n",
    "        try:\n",
    "            if direction == \"up\":\n",
    "                return self.board[i-1][j]\n",
    "            elif direction == \"down\":\n",
    "                return self.board[i+1][j]\n",
    "            elif direction == \"left\":\n",
    "                return self.board[i][j-1]\n",
    "            elif direction == \"right\":\n",
    "                return self.board[i][j+1]\n",
    "            else:\n",
    "                raise ValueError(\"direction is not up, down, left, or right.\")\n",
    "        except IndexError:\n",
    "            # handle out of bounds case\n",
    "            # potential bug: if passing in a location that is already way out of bounds\n",
    "            #  it will not tell you that you did that\n",
    "            return 1\n",
    "    \n",
    "    def num_completed_rows():\n",
    "        '''Return number of rows that are completed'''\n",
    "        num_completed = 0\n",
    "        for row in self.board:\n",
    "            num_completed += all(row)\n",
    "        return num_completed\n",
    "    \n",
    "    def num_holes():\n",
    "        '''Return number of holes in the board'''\n",
    "        num_holes = 0\n",
    "        for i, row in self.state[0]:\n",
    "            for j, block in row:\n",
    "                # solid blocks aren't holes\n",
    "                if board[i,j] == 1:\n",
    "                    continue\n",
    "                # test every direction around the current empty block. if all are solid blocks/walls, then this is a hole\n",
    "                is_hole = all([self.get_adjacent_block((i,j), direction for direction in [\"up\", \"down\", \"left\", \"right\"]])\n",
    "                num_holes += is_hole\n",
    "        return num_holes\n",
    "    \n",
    "    def score_state(self):\n",
    "        '''Calculate the utility of a given state.'''"
   ]
  },
  {
   "cell_type": "code",
   "execution_count": null,
   "id": "c64b45ac-e23a-4c24-b63d-15e691adf0f9",
   "metadata": {},
   "outputs": [],
   "source": []
  }
 ],
 "metadata": {
  "kernelspec": {
   "display_name": "Python 3 (ipykernel)",
   "language": "python",
   "name": "python3"
  },
  "language_info": {
   "codemirror_mode": {
    "name": "ipython",
    "version": 3
   },
   "file_extension": ".py",
   "mimetype": "text/x-python",
   "name": "python",
   "nbconvert_exporter": "python",
   "pygments_lexer": "ipython3",
   "version": "3.11.4"
  }
 },
 "nbformat": 4,
 "nbformat_minor": 5
}
